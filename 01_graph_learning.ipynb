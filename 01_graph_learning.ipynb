{
 "cells": [
  {
   "cell_type": "markdown",
   "metadata": {},
   "source": [
    "# Representations on graphs\n",
    "\n",
    "Graphs are one of the most general objects in math, so you see them commonly in data science problems.\n",
    "\n",
    "Today we'll look to apply representation learning on graphs.\n",
    "\n",
    "Start with the [karate club](https://en.wikipedia.org/wiki/Zachary%27s_karate_club) graph:"
   ]
  },
  {
   "cell_type": "code",
   "execution_count": 47,
   "metadata": {},
   "outputs": [
    {
     "name": "stdout",
     "output_type": "stream",
     "text": [
      "['1', '2', '3', '4', '5', '6', '7', '8', '9', '11', '12', '13', '14', '18', '20', '22', '32', '31', '10', '28', '29', '33', '17', '34', '15', '16', '19', '21', '23', '24', '26', '30', '25', '27']\n"
     ]
    },
    {
     "data": {
      "image/png": "[encoded data removed]",
      "text/plain": [
       "<Figure size 432x288 with 1 Axes>"
      ]
     },
     "metadata": {},
     "output_type": "display_data"
    }
   ],
   "source": [
    "import networkx as nx\n",
    "import pandas as pd\n",
    "\n",
    "G = nx.read_edgelist(\"data/karate_edges.txt\")\n",
    "print(G.nodes())\n",
    "nx.draw_spectral(G)"
   ]
  },
  {
   "cell_type": "markdown",
   "metadata": {},
   "source": [
    "As we've seen before, graphs can always be represented as $n \\times n$ matrices where entries denote the presence of an edge:"
   ]
  },
  {
   "cell_type": "code",
   "execution_count": 48,
   "metadata": {},
   "outputs": [
    {
     "name": "stdout",
     "output_type": "stream",
     "text": [
      "(34, 34)\n"
     ]
    },
    {
     "data": {
      "text/plain": [
       "matrix([[0, 1, 1, ..., 1, 0, 0],\n",
       "        [1, 0, 1, ..., 0, 0, 0],\n",
       "        [1, 1, 0, ..., 0, 1, 0],\n",
       "        ...,\n",
       "        [1, 0, 0, ..., 0, 1, 1],\n",
       "        [0, 0, 1, ..., 1, 0, 1],\n",
       "        [0, 0, 0, ..., 1, 1, 0]])"
      ]
     },
     "execution_count": 48,
     "metadata": {},
     "output_type": "execute_result"
    }
   ],
   "source": [
    "m = nx.adjacency_matrix(G, nodelist=[str(x) for x in range(1, len(G) + 1)])\n",
    "print(m.shape)\n",
    "m.todense()"
   ]
  },
  {
   "cell_type": "markdown",
   "metadata": {},
   "source": [
    "Here we're looking to classify the karate club members into one of two groups:"
   ]
  },
  {
   "cell_type": "code",
   "execution_count": 49,
   "metadata": {
    "scrolled": true
   },
   "outputs": [
    {
     "data": {
      "text/html": [
       "<div>\n",
       "<style scoped>\n",
       "    .dataframe tbody tr th:only-of-type {\n",
       "        vertical-align: middle;\n",
       "    }\n",
       "\n",
       "    .dataframe tbody tr th {\n",
       "        vertical-align: top;\n",
       "    }\n",
       "\n",
       "    .dataframe thead th {\n",
       "        text-align: right;\n",
       "    }\n",
       "</style>\n",
       "<table border=\"1\" class=\"dataframe\">\n",
       "  <thead>\n",
       "    <tr style=\"text-align: right;\">\n",
       "      <th></th>\n",
       "      <th>node</th>\n",
       "      <th>label</th>\n",
       "    </tr>\n",
       "  </thead>\n",
       "  <tbody>\n",
       "    <tr>\n",
       "      <th>0</th>\n",
       "      <td>1</td>\n",
       "      <td>1</td>\n",
       "    </tr>\n",
       "    <tr>\n",
       "      <th>1</th>\n",
       "      <td>2</td>\n",
       "      <td>1</td>\n",
       "    </tr>\n",
       "    <tr>\n",
       "      <th>2</th>\n",
       "      <td>3</td>\n",
       "      <td>1</td>\n",
       "    </tr>\n",
       "    <tr>\n",
       "      <th>3</th>\n",
       "      <td>4</td>\n",
       "      <td>1</td>\n",
       "    </tr>\n",
       "    <tr>\n",
       "      <th>4</th>\n",
       "      <td>5</td>\n",
       "      <td>1</td>\n",
       "    </tr>\n",
       "    <tr>\n",
       "      <th>5</th>\n",
       "      <td>6</td>\n",
       "      <td>1</td>\n",
       "    </tr>\n",
       "    <tr>\n",
       "      <th>6</th>\n",
       "      <td>7</td>\n",
       "      <td>1</td>\n",
       "    </tr>\n",
       "    <tr>\n",
       "      <th>7</th>\n",
       "      <td>8</td>\n",
       "      <td>1</td>\n",
       "    </tr>\n",
       "    <tr>\n",
       "      <th>8</th>\n",
       "      <td>9</td>\n",
       "      <td>1</td>\n",
       "    </tr>\n",
       "    <tr>\n",
       "      <th>9</th>\n",
       "      <td>10</td>\n",
       "      <td>0</td>\n",
       "    </tr>\n",
       "    <tr>\n",
       "      <th>10</th>\n",
       "      <td>11</td>\n",
       "      <td>1</td>\n",
       "    </tr>\n",
       "    <tr>\n",
       "      <th>11</th>\n",
       "      <td>12</td>\n",
       "      <td>1</td>\n",
       "    </tr>\n",
       "    <tr>\n",
       "      <th>12</th>\n",
       "      <td>13</td>\n",
       "      <td>1</td>\n",
       "    </tr>\n",
       "    <tr>\n",
       "      <th>13</th>\n",
       "      <td>14</td>\n",
       "      <td>1</td>\n",
       "    </tr>\n",
       "    <tr>\n",
       "      <th>14</th>\n",
       "      <td>15</td>\n",
       "      <td>0</td>\n",
       "    </tr>\n",
       "    <tr>\n",
       "      <th>15</th>\n",
       "      <td>16</td>\n",
       "      <td>0</td>\n",
       "    </tr>\n",
       "    <tr>\n",
       "      <th>16</th>\n",
       "      <td>17</td>\n",
       "      <td>1</td>\n",
       "    </tr>\n",
       "    <tr>\n",
       "      <th>17</th>\n",
       "      <td>18</td>\n",
       "      <td>1</td>\n",
       "    </tr>\n",
       "    <tr>\n",
       "      <th>18</th>\n",
       "      <td>19</td>\n",
       "      <td>0</td>\n",
       "    </tr>\n",
       "    <tr>\n",
       "      <th>19</th>\n",
       "      <td>20</td>\n",
       "      <td>1</td>\n",
       "    </tr>\n",
       "    <tr>\n",
       "      <th>20</th>\n",
       "      <td>21</td>\n",
       "      <td>0</td>\n",
       "    </tr>\n",
       "    <tr>\n",
       "      <th>21</th>\n",
       "      <td>22</td>\n",
       "      <td>1</td>\n",
       "    </tr>\n",
       "    <tr>\n",
       "      <th>22</th>\n",
       "      <td>23</td>\n",
       "      <td>0</td>\n",
       "    </tr>\n",
       "    <tr>\n",
       "      <th>23</th>\n",
       "      <td>24</td>\n",
       "      <td>0</td>\n",
       "    </tr>\n",
       "    <tr>\n",
       "      <th>24</th>\n",
       "      <td>25</td>\n",
       "      <td>0</td>\n",
       "    </tr>\n",
       "    <tr>\n",
       "      <th>25</th>\n",
       "      <td>26</td>\n",
       "      <td>0</td>\n",
       "    </tr>\n",
       "    <tr>\n",
       "      <th>26</th>\n",
       "      <td>27</td>\n",
       "      <td>0</td>\n",
       "    </tr>\n",
       "    <tr>\n",
       "      <th>27</th>\n",
       "      <td>28</td>\n",
       "      <td>0</td>\n",
       "    </tr>\n",
       "    <tr>\n",
       "      <th>28</th>\n",
       "      <td>29</td>\n",
       "      <td>0</td>\n",
       "    </tr>\n",
       "    <tr>\n",
       "      <th>29</th>\n",
       "      <td>30</td>\n",
       "      <td>0</td>\n",
       "    </tr>\n",
       "    <tr>\n",
       "      <th>30</th>\n",
       "      <td>31</td>\n",
       "      <td>0</td>\n",
       "    </tr>\n",
       "    <tr>\n",
       "      <th>31</th>\n",
       "      <td>32</td>\n",
       "      <td>0</td>\n",
       "    </tr>\n",
       "    <tr>\n",
       "      <th>32</th>\n",
       "      <td>33</td>\n",
       "      <td>0</td>\n",
       "    </tr>\n",
       "    <tr>\n",
       "      <th>33</th>\n",
       "      <td>34</td>\n",
       "      <td>0</td>\n",
       "    </tr>\n",
       "  </tbody>\n",
       "</table>\n",
       "</div>"
      ],
      "text/plain": [
       "    node  label\n",
       "0      1      1\n",
       "1      2      1\n",
       "2      3      1\n",
       "3      4      1\n",
       "4      5      1\n",
       "5      6      1\n",
       "6      7      1\n",
       "7      8      1\n",
       "8      9      1\n",
       "9     10      0\n",
       "10    11      1\n",
       "11    12      1\n",
       "12    13      1\n",
       "13    14      1\n",
       "14    15      0\n",
       "15    16      0\n",
       "16    17      1\n",
       "17    18      1\n",
       "18    19      0\n",
       "19    20      1\n",
       "20    21      0\n",
       "21    22      1\n",
       "22    23      0\n",
       "23    24      0\n",
       "24    25      0\n",
       "25    26      0\n",
       "26    27      0\n",
       "27    28      0\n",
       "28    29      0\n",
       "29    30      0\n",
       "30    31      0\n",
       "31    32      0\n",
       "32    33      0\n",
       "33    34      0"
      ]
     },
     "execution_count": 49,
     "metadata": {},
     "output_type": "execute_result"
    },
    {
     "data": {
      "image/png": "[encoded data removed]",
      "text/plain": [
       "<Figure size 432x288 with 1 Axes>"
      ]
     },
     "metadata": {},
     "output_type": "display_data"
    }
   ],
   "source": [
    "labels = pd.read_csv(\"data/karate_groups.txt\", sep='\\t', header=None)\n",
    "labels.columns = ['node', 'label']\n",
    "labels.label = (labels.label == 1).astype(int)\n",
    "nx.draw_spectral(G, node_color=labels.label)\n",
    "labels"
   ]
  },
  {
   "cell_type": "code",
   "execution_count": 50,
   "metadata": {},
   "outputs": [
    {
     "data": {
      "text/plain": [
       "1.0"
      ]
     },
     "execution_count": 50,
     "metadata": {},
     "output_type": "execute_result"
    }
   ],
   "source": [
    "import sklearn\n",
    "from sklearn.linear_model import LogisticRegression\n",
    "lr = LogisticRegression()\n",
    "lr.fit(m, labels.label)\n",
    "lr.score(m, labels.label)"
   ]
  },
  {
   "cell_type": "markdown",
   "metadata": {},
   "source": [
    "Of course, the model is **overspecified** when there are $n$ columns and $n$ rows. So typically we need to apply dimensionality reduction to a graph to ingest it into a regression problem:"
   ]
  },
  {
   "cell_type": "code",
   "execution_count": 7,
   "metadata": {},
   "outputs": [
    {
     "data": {
      "text/plain": [
       "0.9705882352941176"
      ]
     },
     "execution_count": 7,
     "metadata": {},
     "output_type": "execute_result"
    }
   ],
   "source": [
    "from sklearn.decomposition import TruncatedSVD\n",
    "\n",
    "pca = TruncatedSVD(5)\n",
    "x = pca.fit_transform(m)\n",
    "lr.fit(x, labels.label)\n",
    "lr.score(x, labels.label)"
   ]
  },
  {
   "cell_type": "markdown",
   "metadata": {},
   "source": [
    "Note that since graphs are generally sparse matrices, not all algorithms work natively on the sparse matrix object.\n",
    "\n",
    "You either need to convert it to a dense matrix, or find algorithms that work on sparse matrices.\n",
    "\n",
    "Let's look at another graph:"
   ]
  },
  {
   "cell_type": "code",
   "execution_count": 51,
   "metadata": {},
   "outputs": [
    {
     "data": {
      "image/png": "[encoded data removed]",
      "text/plain": [
       "<Figure size 432x288 with 1 Axes>"
      ]
     },
     "metadata": {},
     "output_type": "display_data"
    }
   ],
   "source": [
    "import gzip\n",
    "import io\n",
    "import requests\n",
    "\n",
    "def make_email():\n",
    "    \"\"\"\n",
    "    Graph from university emails, clustered by departments\n",
    "    Data from http://snap.stanford.edu/data/email-Eu-core.html\n",
    "    Edge list Format\n",
    "    \"\"\"\n",
    "    res = requests.get('http://snap.stanford.edu/data/email-Eu-core.txt.gz', verify=False)\n",
    "    edges = gzip.GzipFile(fileobj=io.BytesIO(res.content))\n",
    "    edges = pd.read_csv(io.StringIO(edges.read().decode()), header=None, sep=' ')\n",
    "    edges.columns = ['src', 'dest']\n",
    "    # cluster labels per node\n",
    "    res = requests.get('http://snap.stanford.edu/data/email-Eu-core-department-labels.txt.gz', verify=False)\n",
    "    labels = gzip.GzipFile(fileobj=io.BytesIO(res.content))\n",
    "    labels = pd.read_csv(io.StringIO(labels.read().decode()), header=None, sep=' ')\n",
    "    labels.columns = ['node', 'cluster']\n",
    "    G = nx.Graph()\n",
    "    G.add_edges_from([(t.src, t.dest) for t in edges.itertuples()])\n",
    "    return G, pd.DataFrame({'node': list(G), 'label': labels.cluster})\n",
    "\n",
    "\n",
    "G, labels = make_email()\n",
    "nx.draw(G, node_color=labels.label)"
   ]
  },
  {
   "cell_type": "code",
   "execution_count": 52,
   "metadata": {},
   "outputs": [
    {
     "name": "stderr",
     "output_type": "stream",
     "text": [
      "/Users/mranger/anaconda3/lib/python3.7/site-packages/sklearn/decomposition/_truncated_svd.py:197: RuntimeWarning: invalid value encountered in true_divide\n",
      "  self.explained_variance_ratio_ = exp_var / full_var\n"
     ]
    },
    {
     "data": {
      "text/plain": [
       "0.10845771144278607"
      ]
     },
     "execution_count": 52,
     "metadata": {},
     "output_type": "execute_result"
    }
   ],
   "source": [
    "m = nx.adjacency_matrix(G, nodelist=[str(x) for x in range(1, len(G) + 1)])\n",
    "\n",
    "pca = TruncatedSVD(5)\n",
    "x = pca.fit_transform(m)\n",
    "\n",
    "lr.fit(x, labels.label)\n",
    "lr.score(x, labels.label)"
   ]
  },
  {
   "cell_type": "markdown",
   "metadata": {},
   "source": [
    "UMAP is one of the best default embedders for graphs:"
   ]
  },
  {
   "cell_type": "code",
   "execution_count": 53,
   "metadata": {},
   "outputs": [
    {
     "name": "stderr",
     "output_type": "stream",
     "text": [
      "/Users/mranger/anaconda3/lib/python3.7/site-packages/sklearn/linear_model/_logistic.py:764: ConvergenceWarning: lbfgs failed to converge (status=1):\n",
      "STOP: TOTAL NO. of ITERATIONS REACHED LIMIT.\n",
      "\n",
      "Increase the number of iterations (max_iter) or scale the data as shown in:\n",
      "    https://scikit-learn.org/stable/modules/preprocessing.html\n",
      "Please also refer to the documentation for alternative solver options:\n",
      "    https://scikit-learn.org/stable/modules/linear_model.html#logistic-regression\n",
      "  extra_warning_msg=_LOGISTIC_SOLVER_CONVERGENCE_MSG)\n"
     ]
    },
    {
     "data": {
      "text/plain": [
       "0.11641791044776119"
      ]
     },
     "execution_count": 53,
     "metadata": {},
     "output_type": "execute_result"
    }
   ],
   "source": [
    "import umap\n",
    "\n",
    "pca = umap.UMAP(25)\n",
    "x = pca.fit_transform(m)\n",
    "\n",
    "lr.fit(x, labels.label)\n",
    "lr.score(x, labels.label)"
   ]
  },
  {
   "cell_type": "markdown",
   "metadata": {},
   "source": [
    "Note that word embeddings are effectively the same as network embeddings, since the word co-occurence matrix is the same as a word co-occurence graph.\n",
    "\n",
    "## Working with larger graphs\n",
    "\n",
    "NetworkX is a great library, but has issues working with medium and large graphs ( >100,000 nodes), because it's built around the python list instead of the numpy array.\n",
    "\n",
    "A good network embedding library based around networkx (for small graphs) is [karate club](https://github.com/benedekrozemberczki/KarateClub) \n",
    "\n",
    "**shameless self-promotion**\n",
    "\n",
    "I've built a library to do representation learning on large graphs called `nodevectors` with an accompanying library to load large graphs `csrgraph`. \n",
    "\n",
    "Alternatives include [DGL](https://github.com/dmlc/dgl) based around graph neural networks (so complex to install and use, but extremely powerful) and [cleora](https://github.com/Synerise/cleora) (great but not a python library)"
   ]
  },
  {
   "cell_type": "code",
   "execution_count": 56,
   "metadata": {},
   "outputs": [
    {
     "data": {
      "text/plain": [
       "<3890x3890 sparse matrix of type '<class 'numpy.float64'>'\n",
       "\twith 76584 stored elements in Compressed Sparse Row format>"
      ]
     },
     "execution_count": 56,
     "metadata": {},
     "output_type": "execute_result"
    }
   ],
   "source": [
    "import csrgraph as cg\n",
    "import nodevectors as nv\n",
    "\n",
    "def read_bionev_labels(filename):\n",
    "    \"\"\"\n",
    "    Reads multilabels in BioNEV format\n",
    "    eg. node label1 label2 ... labeln\n",
    "    ex.\n",
    "        1 5 8 99 103\n",
    "        2 4\n",
    "        3 9 192 777\n",
    "    Returns pd.DataFrame with nodeID\n",
    "    \"\"\"\n",
    "    fin = open(filename, 'r')\n",
    "    node_list = []\n",
    "    labels = []\n",
    "    while 1:\n",
    "        l = fin.readline()\n",
    "        if l == '':\n",
    "            break\n",
    "        vec = l.strip().split()\n",
    "        node_list.append(int(vec[0]))\n",
    "        labels.append([int(x) for x in vec[1:]])\n",
    "    fin.close()\n",
    "    res = pd.DataFrame({'nodes': node_list, 'mlabels':pd.Series(labels)})\n",
    "    res = res.sort_values(by='nodes').reset_index(drop=True)\n",
    "    res.nodes = res.nodes - 1\n",
    "    if not (res.nodes == res.index).all():\n",
    "        warnings.warn(\"There are some nodes without multilabels!\")\n",
    "    return res\n",
    "\n",
    "labels = read_bionev_labels(\"data/bioNEV/node2vec_PPI/node2vec_PPI_labels.txt\")\n",
    "\n",
    "G = cg.read_edgelist(\"data/bioNEV/node2vec_PPI/node2vec_PPI.edgelist\")\n",
    "G.mat"
   ]
  },
  {
   "cell_type": "markdown",
   "metadata": {},
   "source": [
    "This dataset has *multilabels* which we'll simplify to single classification labels for this problem:"
   ]
  },
  {
   "cell_type": "code",
   "execution_count": 57,
   "metadata": {},
   "outputs": [
    {
     "data": {
      "text/html": [
       "<div>\n",
       "<style scoped>\n",
       "    .dataframe tbody tr th:only-of-type {\n",
       "        vertical-align: middle;\n",
       "    }\n",
       "\n",
       "    .dataframe tbody tr th {\n",
       "        vertical-align: top;\n",
       "    }\n",
       "\n",
       "    .dataframe thead th {\n",
       "        text-align: right;\n",
       "    }\n",
       "</style>\n",
       "<table border=\"1\" class=\"dataframe\">\n",
       "  <thead>\n",
       "    <tr style=\"text-align: right;\">\n",
       "      <th></th>\n",
       "      <th>nodes</th>\n",
       "      <th>mlabels</th>\n",
       "      <th>label</th>\n",
       "    </tr>\n",
       "  </thead>\n",
       "  <tbody>\n",
       "    <tr>\n",
       "      <th>0</th>\n",
       "      <td>0</td>\n",
       "      <td>[6, 16, 37, 39, 46]</td>\n",
       "      <td>6</td>\n",
       "    </tr>\n",
       "    <tr>\n",
       "      <th>1</th>\n",
       "      <td>1</td>\n",
       "      <td>[30]</td>\n",
       "      <td>30</td>\n",
       "    </tr>\n",
       "    <tr>\n",
       "      <th>2</th>\n",
       "      <td>2</td>\n",
       "      <td>[5]</td>\n",
       "      <td>5</td>\n",
       "    </tr>\n",
       "    <tr>\n",
       "      <th>3</th>\n",
       "      <td>3</td>\n",
       "      <td>[30]</td>\n",
       "      <td>30</td>\n",
       "    </tr>\n",
       "    <tr>\n",
       "      <th>4</th>\n",
       "      <td>4</td>\n",
       "      <td>[2, 9]</td>\n",
       "      <td>2</td>\n",
       "    </tr>\n",
       "    <tr>\n",
       "      <th>...</th>\n",
       "      <td>...</td>\n",
       "      <td>...</td>\n",
       "      <td>...</td>\n",
       "    </tr>\n",
       "    <tr>\n",
       "      <th>3885</th>\n",
       "      <td>3885</td>\n",
       "      <td>[2, 35]</td>\n",
       "      <td>2</td>\n",
       "    </tr>\n",
       "    <tr>\n",
       "      <th>3886</th>\n",
       "      <td>3886</td>\n",
       "      <td>[26]</td>\n",
       "      <td>26</td>\n",
       "    </tr>\n",
       "    <tr>\n",
       "      <th>3887</th>\n",
       "      <td>3887</td>\n",
       "      <td>[4, 8, 21]</td>\n",
       "      <td>4</td>\n",
       "    </tr>\n",
       "    <tr>\n",
       "      <th>3888</th>\n",
       "      <td>3888</td>\n",
       "      <td>[34, 38]</td>\n",
       "      <td>34</td>\n",
       "    </tr>\n",
       "    <tr>\n",
       "      <th>3889</th>\n",
       "      <td>3889</td>\n",
       "      <td>[37]</td>\n",
       "      <td>37</td>\n",
       "    </tr>\n",
       "  </tbody>\n",
       "</table>\n",
       "<p>3890 rows × 3 columns</p>\n",
       "</div>"
      ],
      "text/plain": [
       "      nodes              mlabels  label\n",
       "0         0  [6, 16, 37, 39, 46]      6\n",
       "1         1                 [30]     30\n",
       "2         2                  [5]      5\n",
       "3         3                 [30]     30\n",
       "4         4               [2, 9]      2\n",
       "...     ...                  ...    ...\n",
       "3885   3885              [2, 35]      2\n",
       "3886   3886                 [26]     26\n",
       "3887   3887           [4, 8, 21]      4\n",
       "3888   3888             [34, 38]     34\n",
       "3889   3889                 [37]     37\n",
       "\n",
       "[3890 rows x 3 columns]"
      ]
     },
     "execution_count": 57,
     "metadata": {},
     "output_type": "execute_result"
    }
   ],
   "source": [
    "labels['label'] = labels.mlabels.apply(lambda x : x[0])\n",
    "labels"
   ]
  },
  {
   "cell_type": "markdown",
   "metadata": {},
   "source": [
    "A great embedding algorithm for large graphs is **ProNE**:"
   ]
  },
  {
   "cell_type": "code",
   "execution_count": 61,
   "metadata": {
    "scrolled": true
   },
   "outputs": [
    {
     "name": "stdout",
     "output_type": "stream",
     "text": [
      "(3890, 20)\n"
     ]
    },
    {
     "data": {
      "text/plain": [
       "0.17223650385604114"
      ]
     },
     "execution_count": 61,
     "metadata": {},
     "output_type": "execute_result"
    }
   ],
   "source": [
    "pne = nv.ProNE(20)\n",
    "x = pne.fit_transform(G)\n",
    "print(x.shape)\n",
    "lr.fit(x, labels.label)\n",
    "lr.score(x, labels.label)"
   ]
  },
  {
   "cell_type": "markdown",
   "metadata": {},
   "source": [
    "An alternative (which is my creation) is **GGVec:**"
   ]
  },
  {
   "cell_type": "code",
   "execution_count": 62,
   "metadata": {},
   "outputs": [
    {
     "name": "stdout",
     "output_type": "stream",
     "text": [
      "(3890, 20)\n"
     ]
    },
    {
     "data": {
      "text/plain": [
       "0.15372750642673522"
      ]
     },
     "execution_count": 62,
     "metadata": {},
     "output_type": "execute_result"
    }
   ],
   "source": [
    "ggvec = nv.GGVec(20)\n",
    "x = ggvec.fit_transform(G)\n",
    "print(x.shape)\n",
    "lr.fit(x, labels.label)\n",
    "lr.score(x, labels.label)"
   ]
  },
  {
   "cell_type": "code",
   "execution_count": null,
   "metadata": {},
   "outputs": [],
   "source": []
  },
  {
   "cell_type": "code",
   "execution_count": null,
   "metadata": {},
   "outputs": [],
   "source": []
  },
  {
   "cell_type": "code",
   "execution_count": null,
   "metadata": {},
   "outputs": [],
   "source": []
  },
  {
   "cell_type": "code",
   "execution_count": null,
   "metadata": {},
   "outputs": [],
   "source": []
  }
 ],
 "metadata": {
  "kernelspec": {
   "display_name": "Python 3",
   "language": "python",
   "name": "python3"
  },
  "language_info": {
   "codemirror_mode": {
    "name": "ipython",
    "version": 3
   },
   "file_extension": ".py",
   "mimetype": "text/x-python",
   "name": "python",
   "nbconvert_exporter": "python",
   "pygments_lexer": "ipython3",
   "version": "3.7.4"
  }
 },
 "nbformat": 4,
 "nbformat_minor": 2
}
